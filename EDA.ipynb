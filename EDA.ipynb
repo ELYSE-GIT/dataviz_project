{
 "cells": [
  {
   "cell_type": "code",
   "execution_count": 1,
   "metadata": {},
   "outputs": [],
   "source": [
    "import numpy as np\n",
    "import pandas as pd\n",
    "import seaborn as sns \n",
    "import matplotlib.pyplot as plt"
   ]
  },
  {
   "cell_type": "code",
   "execution_count": 19,
   "metadata": {},
   "outputs": [],
   "source": [
    "# Paths of datasets\n",
    "path2016 = \"full_2016.csv\"\n",
    "path2017 = \"full_2017.csv\"\n",
    "path2018 = \"full_2018.csv\"\n",
    "path2019 = \"full_2019.csv\"\n",
    "path2020 = \"full_2020.csv\""
   ]
  },
  {
   "cell_type": "code",
   "execution_count": 20,
   "metadata": {},
   "outputs": [],
   "source": [
    "# import data\n",
    "def import_data (path) :\n",
    "    df = pd.read_csv (path, delimiter = \",\").sample(frac = 1)\n",
    "    return df"
   ]
  },
  {
   "cell_type": "code",
   "execution_count": 21,
   "metadata": {},
   "outputs": [
    {
     "name": "stderr",
     "output_type": "stream",
     "text": [
      "C:\\Users\\ISEPIS~1\\AppData\\Local\\Temp/ipykernel_8636/1158730067.py:1: DtypeWarning: Columns (8,10,12,14,16,17,18,20,22,35,36) have mixed types.Specify dtype option on import or set low_memory=False.\n",
      "  df2020 = import_data(path2020)\n",
      "C:\\Users\\ISEPIS~1\\AppData\\Local\\Temp/ipykernel_8636/1158730067.py:2: DtypeWarning: Columns (10,12,14,16,17,18,20,22,35,36) have mixed types.Specify dtype option on import or set low_memory=False.\n",
      "  df2019 = import_data(path2019)\n",
      "C:\\Users\\ISEPIS~1\\AppData\\Local\\Temp/ipykernel_8636/1158730067.py:3: DtypeWarning: Columns (10,12,14,16,17,18,20,22,26,35,36) have mixed types.Specify dtype option on import or set low_memory=False.\n",
      "  df2018 = import_data(path2018)\n",
      "C:\\Users\\ISEPIS~1\\AppData\\Local\\Temp/ipykernel_8636/1158730067.py:4: DtypeWarning: Columns (10,12,14,16,17,18,20,22,35,36) have mixed types.Specify dtype option on import or set low_memory=False.\n",
      "  df2017 = import_data(path2017)\n",
      "C:\\Users\\ISEPIS~1\\AppData\\Local\\Temp/ipykernel_8636/1158730067.py:5: DtypeWarning: Columns (10,12,14,16,17,18,20,22,24,26,35,36) have mixed types.Specify dtype option on import or set low_memory=False.\n",
      "  df2016 = import_data(path2016)\n"
     ]
    }
   ],
   "source": [
    "df2020 = import_data(path2020)\n",
    "df2019 = import_data(path2019)\n",
    "df2018 = import_data(path2018)\n",
    "df2017 = import_data(path2017)\n",
    "df2016 = import_data(path2016)"
   ]
  },
  {
   "cell_type": "code",
   "execution_count": 22,
   "metadata": {},
   "outputs": [],
   "source": [
    "# Cleaning data_set by dropping columns\n",
    "def drop_cols (df) :\n",
    "    \n",
    "    # Data cleaning\n",
    "    columns = [\"adresse_code_voie\" , \"code_commune\" , \"code_departement\" , \"ancien_code_commune\" , \"ancien_nom_commune\" , \"ancien_id_parcelle\" , \"numero_volume\" , \"lot1_numero\", \"lot2_numero\" ,\"lot3_numero\" ,\n",
    "           \"lot1_surface_carrez\" , \"lot2_surface_carrez\", \"lot3_surface_carrez\" , \"lot4_numero\" , \"lot4_surface_carrez\" , \"lot5_numero\" , \"lot5_surface_carrez\" , \"adresse_suffixe\" , \"code_nature_culture_speciale\" ,\"nature_culture_speciale\",\n",
    "           \"id_mutation\" , \"numero_disposition\" , \"id_parcelle\" , \"adresse_numero\", \"code_type_local\" , \"nature_culture_speciale\" , \"code_nature_culture\",\"adresse_nom_voie\",\"nombre_lots\", \"nature_culture\" ,\"code_postal\"\n",
    "        ]\n",
    "\n",
    "    # columns elimination\n",
    "    df.drop(columns , axis = 1, inplace = True)\n",
    "    \n",
    "\n",
    "    return df"
   ]
  },
  {
   "cell_type": "code",
   "execution_count": 23,
   "metadata": {},
   "outputs": [
    {
     "data": {
      "text/html": [
       "<div>\n",
       "<style scoped>\n",
       "    .dataframe tbody tr th:only-of-type {\n",
       "        vertical-align: middle;\n",
       "    }\n",
       "\n",
       "    .dataframe tbody tr th {\n",
       "        vertical-align: top;\n",
       "    }\n",
       "\n",
       "    .dataframe thead th {\n",
       "        text-align: right;\n",
       "    }\n",
       "</style>\n",
       "<table border=\"1\" class=\"dataframe\">\n",
       "  <thead>\n",
       "    <tr style=\"text-align: right;\">\n",
       "      <th></th>\n",
       "      <th>date_mutation</th>\n",
       "      <th>nature_mutation</th>\n",
       "      <th>valeur_fonciere</th>\n",
       "      <th>nom_commune</th>\n",
       "      <th>type_local</th>\n",
       "      <th>surface_reelle_bati</th>\n",
       "      <th>nombre_pieces_principales</th>\n",
       "      <th>surface_terrain</th>\n",
       "      <th>longitude</th>\n",
       "      <th>latitude</th>\n",
       "    </tr>\n",
       "  </thead>\n",
       "  <tbody>\n",
       "    <tr>\n",
       "      <th>442096</th>\n",
       "      <td>2020-09-26</td>\n",
       "      <td>Vente</td>\n",
       "      <td>60000.0</td>\n",
       "      <td>Saint-Vaury</td>\n",
       "      <td>NaN</td>\n",
       "      <td>NaN</td>\n",
       "      <td>NaN</td>\n",
       "      <td>225.0</td>\n",
       "      <td>1.725379</td>\n",
       "      <td>46.200547</td>\n",
       "    </tr>\n",
       "    <tr>\n",
       "      <th>1034060</th>\n",
       "      <td>2020-09-04</td>\n",
       "      <td>Vente</td>\n",
       "      <td>450000.0</td>\n",
       "      <td>Treillières</td>\n",
       "      <td>Maison</td>\n",
       "      <td>211.0</td>\n",
       "      <td>7.0</td>\n",
       "      <td>1503.0</td>\n",
       "      <td>-1.619081</td>\n",
       "      <td>47.308836</td>\n",
       "    </tr>\n",
       "    <tr>\n",
       "      <th>774805</th>\n",
       "      <td>2020-04-23</td>\n",
       "      <td>Vente</td>\n",
       "      <td>240000.0</td>\n",
       "      <td>Pacé</td>\n",
       "      <td>Appartement</td>\n",
       "      <td>84.0</td>\n",
       "      <td>4.0</td>\n",
       "      <td>NaN</td>\n",
       "      <td>-1.765575</td>\n",
       "      <td>48.153703</td>\n",
       "    </tr>\n",
       "    <tr>\n",
       "      <th>2167651</th>\n",
       "      <td>2020-02-29</td>\n",
       "      <td>Vente</td>\n",
       "      <td>35000.0</td>\n",
       "      <td>Sergines</td>\n",
       "      <td>NaN</td>\n",
       "      <td>NaN</td>\n",
       "      <td>NaN</td>\n",
       "      <td>115.0</td>\n",
       "      <td>3.261199</td>\n",
       "      <td>48.340540</td>\n",
       "    </tr>\n",
       "    <tr>\n",
       "      <th>1519637</th>\n",
       "      <td>2020-08-05</td>\n",
       "      <td>Vente</td>\n",
       "      <td>170000.0</td>\n",
       "      <td>Robecq</td>\n",
       "      <td>NaN</td>\n",
       "      <td>NaN</td>\n",
       "      <td>NaN</td>\n",
       "      <td>233.0</td>\n",
       "      <td>2.564090</td>\n",
       "      <td>50.595517</td>\n",
       "    </tr>\n",
       "    <tr>\n",
       "      <th>...</th>\n",
       "      <td>...</td>\n",
       "      <td>...</td>\n",
       "      <td>...</td>\n",
       "      <td>...</td>\n",
       "      <td>...</td>\n",
       "      <td>...</td>\n",
       "      <td>...</td>\n",
       "      <td>...</td>\n",
       "      <td>...</td>\n",
       "      <td>...</td>\n",
       "    </tr>\n",
       "    <tr>\n",
       "      <th>372575</th>\n",
       "      <td>2020-10-02</td>\n",
       "      <td>Vente</td>\n",
       "      <td>1.0</td>\n",
       "      <td>Soursac</td>\n",
       "      <td>Maison</td>\n",
       "      <td>114.0</td>\n",
       "      <td>5.0</td>\n",
       "      <td>NaN</td>\n",
       "      <td>NaN</td>\n",
       "      <td>NaN</td>\n",
       "    </tr>\n",
       "    <tr>\n",
       "      <th>1224765</th>\n",
       "      <td>2020-12-09</td>\n",
       "      <td>Vente</td>\n",
       "      <td>99500.0</td>\n",
       "      <td>Gavray-sur-Sienne</td>\n",
       "      <td>Maison</td>\n",
       "      <td>90.0</td>\n",
       "      <td>5.0</td>\n",
       "      <td>606.0</td>\n",
       "      <td>-1.297142</td>\n",
       "      <td>48.906228</td>\n",
       "    </tr>\n",
       "    <tr>\n",
       "      <th>578423</th>\n",
       "      <td>2020-12-04</td>\n",
       "      <td>Vente</td>\n",
       "      <td>97200.0</td>\n",
       "      <td>Le Grau-du-Roi</td>\n",
       "      <td>Dépendance</td>\n",
       "      <td>NaN</td>\n",
       "      <td>0.0</td>\n",
       "      <td>NaN</td>\n",
       "      <td>4.143538</td>\n",
       "      <td>43.526942</td>\n",
       "    </tr>\n",
       "    <tr>\n",
       "      <th>692963</th>\n",
       "      <td>2020-07-20</td>\n",
       "      <td>Vente</td>\n",
       "      <td>326000.0</td>\n",
       "      <td>Arcachon</td>\n",
       "      <td>Dépendance</td>\n",
       "      <td>NaN</td>\n",
       "      <td>0.0</td>\n",
       "      <td>NaN</td>\n",
       "      <td>-1.162258</td>\n",
       "      <td>44.661720</td>\n",
       "    </tr>\n",
       "    <tr>\n",
       "      <th>81740</th>\n",
       "      <td>2020-06-12</td>\n",
       "      <td>Vente</td>\n",
       "      <td>350000.0</td>\n",
       "      <td>La Bâtie-Neuve</td>\n",
       "      <td>NaN</td>\n",
       "      <td>NaN</td>\n",
       "      <td>NaN</td>\n",
       "      <td>2420.0</td>\n",
       "      <td>6.211647</td>\n",
       "      <td>44.570580</td>\n",
       "    </tr>\n",
       "  </tbody>\n",
       "</table>\n",
       "<p>2459560 rows × 10 columns</p>\n",
       "</div>"
      ],
      "text/plain": [
       "        date_mutation nature_mutation  valeur_fonciere        nom_commune  \\\n",
       "442096     2020-09-26           Vente          60000.0        Saint-Vaury   \n",
       "1034060    2020-09-04           Vente         450000.0        Treillières   \n",
       "774805     2020-04-23           Vente         240000.0               Pacé   \n",
       "2167651    2020-02-29           Vente          35000.0           Sergines   \n",
       "1519637    2020-08-05           Vente         170000.0             Robecq   \n",
       "...               ...             ...              ...                ...   \n",
       "372575     2020-10-02           Vente              1.0            Soursac   \n",
       "1224765    2020-12-09           Vente          99500.0  Gavray-sur-Sienne   \n",
       "578423     2020-12-04           Vente          97200.0     Le Grau-du-Roi   \n",
       "692963     2020-07-20           Vente         326000.0           Arcachon   \n",
       "81740      2020-06-12           Vente         350000.0     La Bâtie-Neuve   \n",
       "\n",
       "          type_local  surface_reelle_bati  nombre_pieces_principales  \\\n",
       "442096           NaN                  NaN                        NaN   \n",
       "1034060       Maison                211.0                        7.0   \n",
       "774805   Appartement                 84.0                        4.0   \n",
       "2167651          NaN                  NaN                        NaN   \n",
       "1519637          NaN                  NaN                        NaN   \n",
       "...              ...                  ...                        ...   \n",
       "372575        Maison                114.0                        5.0   \n",
       "1224765       Maison                 90.0                        5.0   \n",
       "578423    Dépendance                  NaN                        0.0   \n",
       "692963    Dépendance                  NaN                        0.0   \n",
       "81740            NaN                  NaN                        NaN   \n",
       "\n",
       "         surface_terrain  longitude   latitude  \n",
       "442096             225.0   1.725379  46.200547  \n",
       "1034060           1503.0  -1.619081  47.308836  \n",
       "774805               NaN  -1.765575  48.153703  \n",
       "2167651            115.0   3.261199  48.340540  \n",
       "1519637            233.0   2.564090  50.595517  \n",
       "...                  ...        ...        ...  \n",
       "372575               NaN        NaN        NaN  \n",
       "1224765            606.0  -1.297142  48.906228  \n",
       "578423               NaN   4.143538  43.526942  \n",
       "692963               NaN  -1.162258  44.661720  \n",
       "81740             2420.0   6.211647  44.570580  \n",
       "\n",
       "[2459560 rows x 10 columns]"
      ]
     },
     "execution_count": 23,
     "metadata": {},
     "output_type": "execute_result"
    }
   ],
   "source": [
    "drop_cols (df2016)\n",
    "drop_cols (df2017)\n",
    "drop_cols (df2018)\n",
    "drop_cols (df2019)\n",
    "drop_cols (df2020)"
   ]
  },
  {
   "cell_type": "code",
   "execution_count": 24,
   "metadata": {},
   "outputs": [],
   "source": [
    "# concatenation of the samples of dataset from 2016 to 2020\n",
    "df = pd.concat([df2016, df2017, df2018, df2019, df2020], axis =0)"
   ]
  },
  {
   "cell_type": "code",
   "execution_count": 25,
   "metadata": {},
   "outputs": [
    {
     "data": {
      "text/html": [
       "<div>\n",
       "<style scoped>\n",
       "    .dataframe tbody tr th:only-of-type {\n",
       "        vertical-align: middle;\n",
       "    }\n",
       "\n",
       "    .dataframe tbody tr th {\n",
       "        vertical-align: top;\n",
       "    }\n",
       "\n",
       "    .dataframe thead th {\n",
       "        text-align: right;\n",
       "    }\n",
       "</style>\n",
       "<table border=\"1\" class=\"dataframe\">\n",
       "  <thead>\n",
       "    <tr style=\"text-align: right;\">\n",
       "      <th></th>\n",
       "      <th>valeur_fonciere</th>\n",
       "      <th>surface_reelle_bati</th>\n",
       "      <th>nombre_pieces_principales</th>\n",
       "      <th>surface_terrain</th>\n",
       "      <th>longitude</th>\n",
       "      <th>latitude</th>\n",
       "    </tr>\n",
       "  </thead>\n",
       "  <tbody>\n",
       "    <tr>\n",
       "      <th>count</th>\n",
       "      <td>1.545774e+07</td>\n",
       "      <td>6.380271e+06</td>\n",
       "      <td>8.485228e+06</td>\n",
       "      <td>1.073258e+07</td>\n",
       "      <td>1.527706e+07</td>\n",
       "      <td>1.527706e+07</td>\n",
       "    </tr>\n",
       "    <tr>\n",
       "      <th>mean</th>\n",
       "      <td>9.759902e+05</td>\n",
       "      <td>1.158300e+02</td>\n",
       "      <td>2.382770e+00</td>\n",
       "      <td>3.277227e+03</td>\n",
       "      <td>2.213686e+00</td>\n",
       "      <td>4.624911e+01</td>\n",
       "    </tr>\n",
       "    <tr>\n",
       "      <th>std</th>\n",
       "      <td>9.451312e+06</td>\n",
       "      <td>1.096755e+03</td>\n",
       "      <td>2.085040e+00</td>\n",
       "      <td>1.720038e+04</td>\n",
       "      <td>6.077779e+00</td>\n",
       "      <td>5.528139e+00</td>\n",
       "    </tr>\n",
       "    <tr>\n",
       "      <th>min</th>\n",
       "      <td>1.000000e-02</td>\n",
       "      <td>1.000000e+00</td>\n",
       "      <td>0.000000e+00</td>\n",
       "      <td>1.000000e+00</td>\n",
       "      <td>-6.315236e+01</td>\n",
       "      <td>-2.138677e+01</td>\n",
       "    </tr>\n",
       "    <tr>\n",
       "      <th>25%</th>\n",
       "      <td>5.800000e+04</td>\n",
       "      <td>5.000000e+01</td>\n",
       "      <td>0.000000e+00</td>\n",
       "      <td>2.340000e+02</td>\n",
       "      <td>1.883650e-01</td>\n",
       "      <td>4.481737e+01</td>\n",
       "    </tr>\n",
       "    <tr>\n",
       "      <th>50%</th>\n",
       "      <td>1.450000e+05</td>\n",
       "      <td>7.500000e+01</td>\n",
       "      <td>2.000000e+00</td>\n",
       "      <td>6.200000e+02</td>\n",
       "      <td>2.328288e+00</td>\n",
       "      <td>4.690986e+01</td>\n",
       "    </tr>\n",
       "    <tr>\n",
       "      <th>75%</th>\n",
       "      <td>2.602000e+05</td>\n",
       "      <td>1.040000e+02</td>\n",
       "      <td>4.000000e+00</td>\n",
       "      <td>1.900000e+03</td>\n",
       "      <td>4.367108e+00</td>\n",
       "      <td>4.872576e+01</td>\n",
       "    </tr>\n",
       "    <tr>\n",
       "      <th>max</th>\n",
       "      <td>2.086000e+09</td>\n",
       "      <td>6.462300e+05</td>\n",
       "      <td>1.120000e+02</td>\n",
       "      <td>1.072309e+07</td>\n",
       "      <td>5.583136e+01</td>\n",
       "      <td>5.108212e+01</td>\n",
       "    </tr>\n",
       "  </tbody>\n",
       "</table>\n",
       "</div>"
      ],
      "text/plain": [
       "       valeur_fonciere  surface_reelle_bati  nombre_pieces_principales  \\\n",
       "count     1.545774e+07         6.380271e+06               8.485228e+06   \n",
       "mean      9.759902e+05         1.158300e+02               2.382770e+00   \n",
       "std       9.451312e+06         1.096755e+03               2.085040e+00   \n",
       "min       1.000000e-02         1.000000e+00               0.000000e+00   \n",
       "25%       5.800000e+04         5.000000e+01               0.000000e+00   \n",
       "50%       1.450000e+05         7.500000e+01               2.000000e+00   \n",
       "75%       2.602000e+05         1.040000e+02               4.000000e+00   \n",
       "max       2.086000e+09         6.462300e+05               1.120000e+02   \n",
       "\n",
       "       surface_terrain     longitude      latitude  \n",
       "count     1.073258e+07  1.527706e+07  1.527706e+07  \n",
       "mean      3.277227e+03  2.213686e+00  4.624911e+01  \n",
       "std       1.720038e+04  6.077779e+00  5.528139e+00  \n",
       "min       1.000000e+00 -6.315236e+01 -2.138677e+01  \n",
       "25%       2.340000e+02  1.883650e-01  4.481737e+01  \n",
       "50%       6.200000e+02  2.328288e+00  4.690986e+01  \n",
       "75%       1.900000e+03  4.367108e+00  4.872576e+01  \n",
       "max       1.072309e+07  5.583136e+01  5.108212e+01  "
      ]
     },
     "execution_count": 25,
     "metadata": {},
     "output_type": "execute_result"
    }
   ],
   "source": [
    "df.describe()"
   ]
  },
  {
   "cell_type": "code",
   "execution_count": 26,
   "metadata": {},
   "outputs": [
    {
     "data": {
      "text/html": [
       "<div>\n",
       "<style scoped>\n",
       "    .dataframe tbody tr th:only-of-type {\n",
       "        vertical-align: middle;\n",
       "    }\n",
       "\n",
       "    .dataframe tbody tr th {\n",
       "        vertical-align: top;\n",
       "    }\n",
       "\n",
       "    .dataframe thead th {\n",
       "        text-align: right;\n",
       "    }\n",
       "</style>\n",
       "<table border=\"1\" class=\"dataframe\">\n",
       "  <thead>\n",
       "    <tr style=\"text-align: right;\">\n",
       "      <th></th>\n",
       "      <th>date_mutation</th>\n",
       "      <th>nature_mutation</th>\n",
       "      <th>valeur_fonciere</th>\n",
       "      <th>nom_commune</th>\n",
       "      <th>type_local</th>\n",
       "      <th>surface_reelle_bati</th>\n",
       "      <th>nombre_pieces_principales</th>\n",
       "      <th>surface_terrain</th>\n",
       "      <th>longitude</th>\n",
       "      <th>latitude</th>\n",
       "    </tr>\n",
       "  </thead>\n",
       "  <tbody>\n",
       "    <tr>\n",
       "      <th>2463962</th>\n",
       "      <td>2016-09-05</td>\n",
       "      <td>Vente terrain à bâtir</td>\n",
       "      <td>68400.0</td>\n",
       "      <td>Avignon</td>\n",
       "      <td>NaN</td>\n",
       "      <td>NaN</td>\n",
       "      <td>NaN</td>\n",
       "      <td>205.0</td>\n",
       "      <td>4.878803</td>\n",
       "      <td>43.931822</td>\n",
       "    </tr>\n",
       "    <tr>\n",
       "      <th>1463987</th>\n",
       "      <td>2016-09-27</td>\n",
       "      <td>Vente</td>\n",
       "      <td>86500.0</td>\n",
       "      <td>Sèvremoine</td>\n",
       "      <td>Appartement</td>\n",
       "      <td>20.0</td>\n",
       "      <td>1.0</td>\n",
       "      <td>NaN</td>\n",
       "      <td>-1.126845</td>\n",
       "      <td>47.098099</td>\n",
       "    </tr>\n",
       "    <tr>\n",
       "      <th>1919733</th>\n",
       "      <td>2016-06-06</td>\n",
       "      <td>Vente</td>\n",
       "      <td>5225505.5</td>\n",
       "      <td>Perpignan</td>\n",
       "      <td>NaN</td>\n",
       "      <td>NaN</td>\n",
       "      <td>NaN</td>\n",
       "      <td>120.0</td>\n",
       "      <td>2.944319</td>\n",
       "      <td>42.700393</td>\n",
       "    </tr>\n",
       "    <tr>\n",
       "      <th>34937</th>\n",
       "      <td>2016-05-04</td>\n",
       "      <td>Vente</td>\n",
       "      <td>48368.0</td>\n",
       "      <td>Chaourse</td>\n",
       "      <td>NaN</td>\n",
       "      <td>NaN</td>\n",
       "      <td>NaN</td>\n",
       "      <td>395.0</td>\n",
       "      <td>3.948008</td>\n",
       "      <td>49.686949</td>\n",
       "    </tr>\n",
       "    <tr>\n",
       "      <th>2870910</th>\n",
       "      <td>2016-06-30</td>\n",
       "      <td>Vente</td>\n",
       "      <td>113000.0</td>\n",
       "      <td>Saint-Paul</td>\n",
       "      <td>NaN</td>\n",
       "      <td>NaN</td>\n",
       "      <td>NaN</td>\n",
       "      <td>216.0</td>\n",
       "      <td>55.292250</td>\n",
       "      <td>-21.033959</td>\n",
       "    </tr>\n",
       "  </tbody>\n",
       "</table>\n",
       "</div>"
      ],
      "text/plain": [
       "        date_mutation        nature_mutation  valeur_fonciere nom_commune  \\\n",
       "2463962    2016-09-05  Vente terrain à bâtir          68400.0     Avignon   \n",
       "1463987    2016-09-27                  Vente          86500.0  Sèvremoine   \n",
       "1919733    2016-06-06                  Vente        5225505.5   Perpignan   \n",
       "34937      2016-05-04                  Vente          48368.0    Chaourse   \n",
       "2870910    2016-06-30                  Vente         113000.0  Saint-Paul   \n",
       "\n",
       "          type_local  surface_reelle_bati  nombre_pieces_principales  \\\n",
       "2463962          NaN                  NaN                        NaN   \n",
       "1463987  Appartement                 20.0                        1.0   \n",
       "1919733          NaN                  NaN                        NaN   \n",
       "34937            NaN                  NaN                        NaN   \n",
       "2870910          NaN                  NaN                        NaN   \n",
       "\n",
       "         surface_terrain  longitude   latitude  \n",
       "2463962            205.0   4.878803  43.931822  \n",
       "1463987              NaN  -1.126845  47.098099  \n",
       "1919733            120.0   2.944319  42.700393  \n",
       "34937              395.0   3.948008  49.686949  \n",
       "2870910            216.0  55.292250 -21.033959  "
      ]
     },
     "execution_count": 26,
     "metadata": {},
     "output_type": "execute_result"
    }
   ],
   "source": [
    "df.head()"
   ]
  },
  {
   "cell_type": "code",
   "execution_count": 27,
   "metadata": {},
   "outputs": [
    {
     "data": {
      "text/html": [
       "<div>\n",
       "<style scoped>\n",
       "    .dataframe tbody tr th:only-of-type {\n",
       "        vertical-align: middle;\n",
       "    }\n",
       "\n",
       "    .dataframe tbody tr th {\n",
       "        vertical-align: top;\n",
       "    }\n",
       "\n",
       "    .dataframe thead th {\n",
       "        text-align: right;\n",
       "    }\n",
       "</style>\n",
       "<table border=\"1\" class=\"dataframe\">\n",
       "  <thead>\n",
       "    <tr style=\"text-align: right;\">\n",
       "      <th></th>\n",
       "      <th>date_mutation</th>\n",
       "      <th>nature_mutation</th>\n",
       "      <th>valeur_fonciere</th>\n",
       "      <th>nom_commune</th>\n",
       "      <th>type_local</th>\n",
       "      <th>surface_reelle_bati</th>\n",
       "      <th>nombre_pieces_principales</th>\n",
       "      <th>surface_terrain</th>\n",
       "      <th>longitude</th>\n",
       "      <th>latitude</th>\n",
       "    </tr>\n",
       "  </thead>\n",
       "  <tbody>\n",
       "    <tr>\n",
       "      <th>372575</th>\n",
       "      <td>2020-10-02</td>\n",
       "      <td>Vente</td>\n",
       "      <td>1.0</td>\n",
       "      <td>Soursac</td>\n",
       "      <td>Maison</td>\n",
       "      <td>114.0</td>\n",
       "      <td>5.0</td>\n",
       "      <td>NaN</td>\n",
       "      <td>NaN</td>\n",
       "      <td>NaN</td>\n",
       "    </tr>\n",
       "    <tr>\n",
       "      <th>1224765</th>\n",
       "      <td>2020-12-09</td>\n",
       "      <td>Vente</td>\n",
       "      <td>99500.0</td>\n",
       "      <td>Gavray-sur-Sienne</td>\n",
       "      <td>Maison</td>\n",
       "      <td>90.0</td>\n",
       "      <td>5.0</td>\n",
       "      <td>606.0</td>\n",
       "      <td>-1.297142</td>\n",
       "      <td>48.906228</td>\n",
       "    </tr>\n",
       "    <tr>\n",
       "      <th>578423</th>\n",
       "      <td>2020-12-04</td>\n",
       "      <td>Vente</td>\n",
       "      <td>97200.0</td>\n",
       "      <td>Le Grau-du-Roi</td>\n",
       "      <td>Dépendance</td>\n",
       "      <td>NaN</td>\n",
       "      <td>0.0</td>\n",
       "      <td>NaN</td>\n",
       "      <td>4.143538</td>\n",
       "      <td>43.526942</td>\n",
       "    </tr>\n",
       "    <tr>\n",
       "      <th>692963</th>\n",
       "      <td>2020-07-20</td>\n",
       "      <td>Vente</td>\n",
       "      <td>326000.0</td>\n",
       "      <td>Arcachon</td>\n",
       "      <td>Dépendance</td>\n",
       "      <td>NaN</td>\n",
       "      <td>0.0</td>\n",
       "      <td>NaN</td>\n",
       "      <td>-1.162258</td>\n",
       "      <td>44.661720</td>\n",
       "    </tr>\n",
       "    <tr>\n",
       "      <th>81740</th>\n",
       "      <td>2020-06-12</td>\n",
       "      <td>Vente</td>\n",
       "      <td>350000.0</td>\n",
       "      <td>La Bâtie-Neuve</td>\n",
       "      <td>NaN</td>\n",
       "      <td>NaN</td>\n",
       "      <td>NaN</td>\n",
       "      <td>2420.0</td>\n",
       "      <td>6.211647</td>\n",
       "      <td>44.570580</td>\n",
       "    </tr>\n",
       "  </tbody>\n",
       "</table>\n",
       "</div>"
      ],
      "text/plain": [
       "        date_mutation nature_mutation  valeur_fonciere        nom_commune  \\\n",
       "372575     2020-10-02           Vente              1.0            Soursac   \n",
       "1224765    2020-12-09           Vente          99500.0  Gavray-sur-Sienne   \n",
       "578423     2020-12-04           Vente          97200.0     Le Grau-du-Roi   \n",
       "692963     2020-07-20           Vente         326000.0           Arcachon   \n",
       "81740      2020-06-12           Vente         350000.0     La Bâtie-Neuve   \n",
       "\n",
       "         type_local  surface_reelle_bati  nombre_pieces_principales  \\\n",
       "372575       Maison                114.0                        5.0   \n",
       "1224765      Maison                 90.0                        5.0   \n",
       "578423   Dépendance                  NaN                        0.0   \n",
       "692963   Dépendance                  NaN                        0.0   \n",
       "81740           NaN                  NaN                        NaN   \n",
       "\n",
       "         surface_terrain  longitude   latitude  \n",
       "372575               NaN        NaN        NaN  \n",
       "1224765            606.0  -1.297142  48.906228  \n",
       "578423               NaN   4.143538  43.526942  \n",
       "692963               NaN  -1.162258  44.661720  \n",
       "81740             2420.0   6.211647  44.570580  "
      ]
     },
     "execution_count": 27,
     "metadata": {},
     "output_type": "execute_result"
    }
   ],
   "source": [
    "df.tail()"
   ]
  },
  {
   "cell_type": "code",
   "execution_count": 28,
   "metadata": {},
   "outputs": [
    {
     "name": "stdout",
     "output_type": "stream",
     "text": [
      "<class 'pandas.core.frame.DataFrame'>\n",
      "Int64Index: 15644208 entries, 2463962 to 81740\n",
      "Data columns (total 10 columns):\n",
      " #   Column                     Dtype  \n",
      "---  ------                     -----  \n",
      " 0   date_mutation              object \n",
      " 1   nature_mutation            object \n",
      " 2   valeur_fonciere            float64\n",
      " 3   nom_commune                object \n",
      " 4   type_local                 object \n",
      " 5   surface_reelle_bati        float64\n",
      " 6   nombre_pieces_principales  float64\n",
      " 7   surface_terrain            float64\n",
      " 8   longitude                  float64\n",
      " 9   latitude                   float64\n",
      "dtypes: float64(6), object(4)\n",
      "memory usage: 1.3+ GB\n"
     ]
    }
   ],
   "source": [
    "df.info()"
   ]
  },
  {
   "cell_type": "code",
   "execution_count": 29,
   "metadata": {},
   "outputs": [],
   "source": [
    "# drop duplicated rows\n",
    "df.drop_duplicates(inplace=True)\n",
    "df= df.reset_index(drop=True)\n"
   ]
  },
  {
   "cell_type": "code",
   "execution_count": 18,
   "metadata": {},
   "outputs": [],
   "source": [
    "def parse_date (df):\n",
    "    # Convert date_mutation dtypes\n",
    "    df [\"date_mutation\"] = df [\"date_mutation\"].map(pd.to_datetime)   \n",
    "    return df \n",
    "\n",
    "df = parse_date (df)"
   ]
  },
  {
   "cell_type": "code",
   "execution_count": 12,
   "metadata": {},
   "outputs": [],
   "source": [
    "def get_day(dt):\n",
    "    return dt.day\n",
    "\n",
    "def get_week(dt):\n",
    "    return dt.week\n",
    "\n",
    "def get_year(dt):\n",
    "    return dt.year \n",
    "\n",
    "def get_month (dt):\n",
    "    return dt.month\n",
    "\n",
    "def count_rows(rows):\n",
    "    return len(rows)\n",
    "\n",
    "    \n",
    "df[\"day\"] = df[\"date_mutation\"].map(get_day)\n",
    "df[\"week\"] = df[\"date_mutation\"].map(get_week)\n",
    "df[\"month\"] = df[\"date_mutation\"].map(get_month)\n",
    "df[\"year\"] = df[\"date_mutation\"].map(get_year)"
   ]
  },
  {
   "cell_type": "code",
   "execution_count": 30,
   "metadata": {},
   "outputs": [
    {
     "data": {
      "text/plain": [
       "(14120407, 10)"
      ]
     },
     "execution_count": 30,
     "metadata": {},
     "output_type": "execute_result"
    }
   ],
   "source": [
    "df.shape\n"
   ]
  },
  {
   "cell_type": "code",
   "execution_count": 14,
   "metadata": {},
   "outputs": [
    {
     "name": "stdout",
     "output_type": "stream",
     "text": [
      "<class 'pandas.core.frame.DataFrame'>\n",
      "RangeIndex: 14120407 entries, 0 to 14120406\n",
      "Data columns (total 15 columns):\n",
      " #   Column                     Dtype         \n",
      "---  ------                     -----         \n",
      " 0   Unnamed: 0                 int64         \n",
      " 1   date_mutation              datetime64[ns]\n",
      " 2   nature_mutation            object        \n",
      " 3   valeur_fonciere            float64       \n",
      " 4   nom_commune                object        \n",
      " 5   type_local                 object        \n",
      " 6   surface_reelle_bati        float64       \n",
      " 7   nombre_pieces_principales  float64       \n",
      " 8   surface_terrain            float64       \n",
      " 9   longitude                  float64       \n",
      " 10  latitude                   float64       \n",
      " 11  day                        int64         \n",
      " 12  week                       int64         \n",
      " 13  month                      int64         \n",
      " 14  year                       int64         \n",
      "dtypes: datetime64[ns](1), float64(6), int64(5), object(3)\n",
      "memory usage: 1.6+ GB\n"
     ]
    }
   ],
   "source": [
    "df.info()"
   ]
  },
  {
   "cell_type": "code",
   "execution_count": 18,
   "metadata": {},
   "outputs": [],
   "source": [
    "df.to_csv(\"df_principal.csv\")"
   ]
  },
  {
   "cell_type": "code",
   "execution_count": 34,
   "metadata": {},
   "outputs": [],
   "source": [
    "df=import_data(\"df_principal.csv\")"
   ]
  },
  {
   "cell_type": "code",
   "execution_count": 19,
   "metadata": {},
   "outputs": [
    {
     "data": {
      "text/plain": [
       "Index(['Unnamed: 0', 'date_mutation', 'nature_mutation', 'valeur_fonciere',\n",
       "       'nom_commune', 'type_local', 'surface_reelle_bati',\n",
       "       'nombre_pieces_principales', 'surface_terrain', 'longitude', 'latitude',\n",
       "       'day', 'week', 'month', 'year'],\n",
       "      dtype='object')"
      ]
     },
     "execution_count": 19,
     "metadata": {},
     "output_type": "execute_result"
    }
   ],
   "source": [
    "df.columns"
   ]
  },
  {
   "cell_type": "code",
   "execution_count": 20,
   "metadata": {},
   "outputs": [],
   "source": [
    "df.drop([\"Unnamed: 0\"], axis =1, inplace=True)"
   ]
  },
  {
   "cell_type": "code",
   "execution_count": 34,
   "metadata": {},
   "outputs": [
    {
     "data": {
      "image/png": "[encoded data removed]",
      "text/plain": [
       "<Figure size 432x288 with 2 Axes>"
      ]
     },
     "metadata": {
      "needs_background": "light"
     },
     "output_type": "display_data"
    }
   ],
   "source": [
    "by_month_year = df.groupby(by=[\"month\",\"year\"]).apply(count_rows).unstack()\n",
    "#Let's see heatmap month & year\n",
    "sns.heatmap(by_month_year, linewidths=0.5)\n",
    "plt.show()"
   ]
  },
  {
   "cell_type": "code",
   "execution_count": 48,
   "metadata": {},
   "outputs": [
    {
     "data": {
      "image/png": "[encoded data removed]",
      "text/plain": [
       "<Figure size 432x288 with 2 Axes>"
      ]
     },
     "metadata": {
      "needs_background": "light"
     },
     "output_type": "display_data"
    }
   ],
   "source": [
    "by_month_year = df.groupby(by=[\"day\",\"month\"]).apply(count_rows).unstack()\n",
    "#Let's see heatmap month & year\n",
    "sns.heatmap(by_month_year)\n",
    "plt.show()"
   ]
  },
  {
   "cell_type": "code",
   "execution_count": 38,
   "metadata": {},
   "outputs": [
    {
     "data": {
      "text/html": [
       "<div>\n",
       "<style scoped>\n",
       "    .dataframe tbody tr th:only-of-type {\n",
       "        vertical-align: middle;\n",
       "    }\n",
       "\n",
       "    .dataframe tbody tr th {\n",
       "        vertical-align: top;\n",
       "    }\n",
       "\n",
       "    .dataframe thead th {\n",
       "        text-align: right;\n",
       "    }\n",
       "</style>\n",
       "<table border=\"1\" class=\"dataframe\">\n",
       "  <thead>\n",
       "    <tr style=\"text-align: right;\">\n",
       "      <th></th>\n",
       "      <th>date_mutation</th>\n",
       "      <th>nature_mutation</th>\n",
       "      <th>valeur_fonciere</th>\n",
       "      <th>nom_commune</th>\n",
       "      <th>surface_reelle_bati</th>\n",
       "      <th>nombre_pieces_principales</th>\n",
       "      <th>surface_terrain</th>\n",
       "      <th>longitude</th>\n",
       "      <th>latitude</th>\n",
       "      <th>day</th>\n",
       "      <th>week</th>\n",
       "      <th>month</th>\n",
       "      <th>year</th>\n",
       "    </tr>\n",
       "    <tr>\n",
       "      <th>type_local</th>\n",
       "      <th></th>\n",
       "      <th></th>\n",
       "      <th></th>\n",
       "      <th></th>\n",
       "      <th></th>\n",
       "      <th></th>\n",
       "      <th></th>\n",
       "      <th></th>\n",
       "      <th></th>\n",
       "      <th></th>\n",
       "      <th></th>\n",
       "      <th></th>\n",
       "      <th></th>\n",
       "    </tr>\n",
       "  </thead>\n",
       "  <tbody>\n",
       "    <tr>\n",
       "      <th>Appartement</th>\n",
       "      <td>2418106</td>\n",
       "      <td>2418106</td>\n",
       "      <td>2407757</td>\n",
       "      <td>2418106</td>\n",
       "      <td>2417934</td>\n",
       "      <td>2417944</td>\n",
       "      <td>376749</td>\n",
       "      <td>2389109</td>\n",
       "      <td>2389109</td>\n",
       "      <td>2418106</td>\n",
       "      <td>2418106</td>\n",
       "      <td>2418106</td>\n",
       "      <td>2418106</td>\n",
       "    </tr>\n",
       "    <tr>\n",
       "      <th>Dépendance</th>\n",
       "      <td>1508955</td>\n",
       "      <td>1508955</td>\n",
       "      <td>1506766</td>\n",
       "      <td>1508955</td>\n",
       "      <td>406</td>\n",
       "      <td>1508790</td>\n",
       "      <td>252246</td>\n",
       "      <td>1489776</td>\n",
       "      <td>1489776</td>\n",
       "      <td>1508955</td>\n",
       "      <td>1508955</td>\n",
       "      <td>1508955</td>\n",
       "      <td>1508955</td>\n",
       "    </tr>\n",
       "    <tr>\n",
       "      <th>Local industriel. commercial ou assimilé</th>\n",
       "      <td>506443</td>\n",
       "      <td>506443</td>\n",
       "      <td>498849</td>\n",
       "      <td>506443</td>\n",
       "      <td>467225</td>\n",
       "      <td>496023</td>\n",
       "      <td>301863</td>\n",
       "      <td>493373</td>\n",
       "      <td>493373</td>\n",
       "      <td>506443</td>\n",
       "      <td>506443</td>\n",
       "      <td>506443</td>\n",
       "      <td>506443</td>\n",
       "    </tr>\n",
       "    <tr>\n",
       "      <th>Maison</th>\n",
       "      <td>3058613</td>\n",
       "      <td>3058613</td>\n",
       "      <td>3050583</td>\n",
       "      <td>3058613</td>\n",
       "      <td>3058560</td>\n",
       "      <td>3058561</td>\n",
       "      <td>2925176</td>\n",
       "      <td>3000465</td>\n",
       "      <td>3000465</td>\n",
       "      <td>3058613</td>\n",
       "      <td>3058613</td>\n",
       "      <td>3058613</td>\n",
       "      <td>3058613</td>\n",
       "    </tr>\n",
       "  </tbody>\n",
       "</table>\n",
       "</div>"
      ],
      "text/plain": [
       "                                          date_mutation  nature_mutation  \\\n",
       "type_local                                                                 \n",
       "Appartement                                     2418106          2418106   \n",
       "Dépendance                                      1508955          1508955   \n",
       "Local industriel. commercial ou assimilé         506443           506443   \n",
       "Maison                                          3058613          3058613   \n",
       "\n",
       "                                          valeur_fonciere  nom_commune  \\\n",
       "type_local                                                               \n",
       "Appartement                                       2407757      2418106   \n",
       "Dépendance                                        1506766      1508955   \n",
       "Local industriel. commercial ou assimilé           498849       506443   \n",
       "Maison                                            3050583      3058613   \n",
       "\n",
       "                                          surface_reelle_bati  \\\n",
       "type_local                                                      \n",
       "Appartement                                           2417934   \n",
       "Dépendance                                                406   \n",
       "Local industriel. commercial ou assimilé               467225   \n",
       "Maison                                                3058560   \n",
       "\n",
       "                                          nombre_pieces_principales  \\\n",
       "type_local                                                            \n",
       "Appartement                                                 2417944   \n",
       "Dépendance                                                  1508790   \n",
       "Local industriel. commercial ou assimilé                     496023   \n",
       "Maison                                                      3058561   \n",
       "\n",
       "                                          surface_terrain  longitude  \\\n",
       "type_local                                                             \n",
       "Appartement                                        376749    2389109   \n",
       "Dépendance                                         252246    1489776   \n",
       "Local industriel. commercial ou assimilé           301863     493373   \n",
       "Maison                                            2925176    3000465   \n",
       "\n",
       "                                          latitude      day     week    month  \\\n",
       "type_local                                                                      \n",
       "Appartement                                2389109  2418106  2418106  2418106   \n",
       "Dépendance                                 1489776  1508955  1508955  1508955   \n",
       "Local industriel. commercial ou assimilé    493373   506443   506443   506443   \n",
       "Maison                                     3000465  3058613  3058613  3058613   \n",
       "\n",
       "                                             year  \n",
       "type_local                                         \n",
       "Appartement                               2418106  \n",
       "Dépendance                                1508955  \n",
       "Local industriel. commercial ou assimilé   506443  \n",
       "Maison                                    3058613  "
      ]
     },
     "execution_count": 38,
     "metadata": {},
     "output_type": "execute_result"
    }
   ],
   "source": [
    "df.groupby(by = [\"type_local\"]).count()"
   ]
  },
  {
   "cell_type": "code",
   "execution_count": 43,
   "metadata": {},
   "outputs": [
    {
     "data": {
      "text/plain": [
       "Maison                                      3058613\n",
       "Appartement                                 2418106\n",
       "Dépendance                                  1508955\n",
       "Local industriel. commercial ou assimilé     506443\n",
       "Name: type_local, dtype: int64"
      ]
     },
     "execution_count": 43,
     "metadata": {},
     "output_type": "execute_result"
    }
   ],
   "source": [
    "df[\"type_local\"].value_counts()"
   ]
  },
  {
   "cell_type": "code",
   "execution_count": 50,
   "metadata": {},
   "outputs": [
    {
     "name": "stderr",
     "output_type": "stream",
     "text": [
      "Done! Use 'show' commands to display/save.   |██████████| [100%]   00:00 -> (00:00 left)\n"
     ]
    },
    {
     "name": "stdout",
     "output_type": "stream",
     "text": [
      "Report SWEETVIZ_REPORT.html was generated! NOTEBOOK/COLAB USERS: the web browser MAY not pop up, regardless, the report IS saved in your notebook/colab files.\n"
     ]
    }
   ],
   "source": [
    "import sweetviz as sv\n",
    "\n",
    "my_report = sv.analyze(df)\n",
    "my_report.show_html() "
   ]
  },
  {
   "cell_type": "code",
   "execution_count": 36,
   "metadata": {},
   "outputs": [],
   "source": [
    "#!pip freeze > requirements.txt"
   ]
  },
  {
   "cell_type": "markdown",
   "metadata": {},
   "source": [
    "$  \\huge Delete \\ NaN $"
   ]
  },
  {
   "cell_type": "code",
   "execution_count": 14,
   "metadata": {},
   "outputs": [],
   "source": [
    "def delete_nan (df) :\n",
    "    df_ = df.copy()\n",
    "    # indice des lignes dont les valeurs foncières sont vides \n",
    "    index_nan = df.index[df[df.columns].isnull().any(axis = 1)]\n",
    "    #index_nan.shape\n",
    "    # supprimer ces lignes\n",
    "    df_.drop(index_nan , 0, inplace = True)\n",
    "    # réinitialiser les indices\n",
    "    df_.reset_index(drop = True, inplace=True)\n",
    "    \n",
    "    return df_\n",
    "\n",
    "#df_no_nan = delete_nan(df)"
   ]
  },
  {
   "cell_type": "code",
   "execution_count": 67,
   "metadata": {},
   "outputs": [],
   "source": [
    "# Export df without NaN to csv\n",
    "df_no_nan.to_csv(\"df_principal_no_nan.csv\")"
   ]
  },
  {
   "cell_type": "code",
   "execution_count": 68,
   "metadata": {},
   "outputs": [
    {
     "data": {
      "text/plain": [
       "(3478201, 14)"
      ]
     },
     "execution_count": 68,
     "metadata": {},
     "output_type": "execute_result"
    }
   ],
   "source": [
    "df.shape"
   ]
  },
  {
   "cell_type": "code",
   "execution_count": 75,
   "metadata": {},
   "outputs": [
    {
     "name": "stderr",
     "output_type": "stream",
     "text": [
      "C:\\Users\\ISEPIS~1\\AppData\\Local\\Temp/ipykernel_17616/808474393.py:4: UserWarning: Matplotlib is currently using agg, which is a non-GUI backend, so cannot show the figure.\n",
      "  plt.show()\n"
     ]
    },
    {
     "data": {
      "image/png": "[encoded data removed]",
      "text/plain": [
       "<Figure size 1500x1000 with 1 Axes>"
      ]
     },
     "metadata": {},
     "output_type": "display_data"
    }
   ],
   "source": [
    "by_year = df.groupby(by=[\"year\"]).apply(count_rows)\n",
    "plt.figure(figsize = (15, 10))\n",
    "plt.plot(by_year)\n",
    "plt.show()"
   ]
  },
  {
   "cell_type": "code",
   "execution_count": 52,
   "metadata": {},
   "outputs": [
    {
     "data": {
      "text/html": [
       "<div>\n",
       "<style scoped>\n",
       "    .dataframe tbody tr th:only-of-type {\n",
       "        vertical-align: middle;\n",
       "    }\n",
       "\n",
       "    .dataframe tbody tr th {\n",
       "        vertical-align: top;\n",
       "    }\n",
       "\n",
       "    .dataframe thead th {\n",
       "        text-align: right;\n",
       "    }\n",
       "</style>\n",
       "<table border=\"1\" class=\"dataframe\">\n",
       "  <thead>\n",
       "    <tr style=\"text-align: right;\">\n",
       "      <th></th>\n",
       "      <th>valeur_fonciere</th>\n",
       "      <th>surface_reelle_bati</th>\n",
       "      <th>nombre_pieces_principales</th>\n",
       "      <th>surface_terrain</th>\n",
       "      <th>longitude</th>\n",
       "      <th>latitude</th>\n",
       "      <th>day</th>\n",
       "      <th>week</th>\n",
       "      <th>month</th>\n",
       "      <th>year</th>\n",
       "    </tr>\n",
       "  </thead>\n",
       "  <tbody>\n",
       "    <tr>\n",
       "      <th>count</th>\n",
       "      <td>1.398113e+07</td>\n",
       "      <td>5.944125e+06</td>\n",
       "      <td>7.481318e+06</td>\n",
       "      <td>1.015470e+07</td>\n",
       "      <td>1.380789e+07</td>\n",
       "      <td>1.380789e+07</td>\n",
       "      <td>1.412041e+07</td>\n",
       "      <td>1.412041e+07</td>\n",
       "      <td>1.412041e+07</td>\n",
       "      <td>1.412041e+07</td>\n",
       "    </tr>\n",
       "    <tr>\n",
       "      <th>mean</th>\n",
       "      <td>4.462819e+05</td>\n",
       "      <td>1.200324e+02</td>\n",
       "      <td>2.572612e+00</td>\n",
       "      <td>2.919397e+03</td>\n",
       "      <td>2.180256e+00</td>\n",
       "      <td>4.626731e+01</td>\n",
       "      <td>1.700813e+01</td>\n",
       "      <td>2.776282e+01</td>\n",
       "      <td>6.761628e+00</td>\n",
       "      <td>2.017946e+03</td>\n",
       "    </tr>\n",
       "    <tr>\n",
       "      <th>std</th>\n",
       "      <td>5.678194e+06</td>\n",
       "      <td>1.134031e+03</td>\n",
       "      <td>2.080648e+00</td>\n",
       "      <td>1.457711e+04</td>\n",
       "      <td>5.811478e+00</td>\n",
       "      <td>5.283771e+00</td>\n",
       "      <td>8.891415e+00</td>\n",
       "      <td>1.507972e+01</td>\n",
       "      <td>3.455067e+00</td>\n",
       "      <td>1.349655e+00</td>\n",
       "    </tr>\n",
       "    <tr>\n",
       "      <th>min</th>\n",
       "      <td>1.000000e-02</td>\n",
       "      <td>1.000000e+00</td>\n",
       "      <td>0.000000e+00</td>\n",
       "      <td>1.000000e+00</td>\n",
       "      <td>-6.315236e+01</td>\n",
       "      <td>-2.138677e+01</td>\n",
       "      <td>1.000000e+00</td>\n",
       "      <td>1.000000e+00</td>\n",
       "      <td>1.000000e+00</td>\n",
       "      <td>2.016000e+03</td>\n",
       "    </tr>\n",
       "    <tr>\n",
       "      <th>25%</th>\n",
       "      <td>5.200000e+04</td>\n",
       "      <td>5.100000e+01</td>\n",
       "      <td>0.000000e+00</td>\n",
       "      <td>2.250000e+02</td>\n",
       "      <td>1.229610e-01</td>\n",
       "      <td>4.481179e+01</td>\n",
       "      <td>9.000000e+00</td>\n",
       "      <td>1.500000e+01</td>\n",
       "      <td>4.000000e+00</td>\n",
       "      <td>2.017000e+03</td>\n",
       "    </tr>\n",
       "    <tr>\n",
       "      <th>50%</th>\n",
       "      <td>1.350000e+05</td>\n",
       "      <td>7.700000e+01</td>\n",
       "      <td>3.000000e+00</td>\n",
       "      <td>6.000000e+02</td>\n",
       "      <td>2.312408e+00</td>\n",
       "      <td>4.682248e+01</td>\n",
       "      <td>1.800000e+01</td>\n",
       "      <td>2.800000e+01</td>\n",
       "      <td>7.000000e+00</td>\n",
       "      <td>2.018000e+03</td>\n",
       "    </tr>\n",
       "    <tr>\n",
       "      <th>75%</th>\n",
       "      <td>2.400000e+05</td>\n",
       "      <td>1.070000e+02</td>\n",
       "      <td>4.000000e+00</td>\n",
       "      <td>1.760000e+03</td>\n",
       "      <td>4.346552e+00</td>\n",
       "      <td>4.867052e+01</td>\n",
       "      <td>2.500000e+01</td>\n",
       "      <td>4.100000e+01</td>\n",
       "      <td>1.000000e+01</td>\n",
       "      <td>2.019000e+03</td>\n",
       "    </tr>\n",
       "    <tr>\n",
       "      <th>max</th>\n",
       "      <td>2.086000e+09</td>\n",
       "      <td>6.462300e+05</td>\n",
       "      <td>1.120000e+02</td>\n",
       "      <td>1.072309e+07</td>\n",
       "      <td>5.583136e+01</td>\n",
       "      <td>5.108212e+01</td>\n",
       "      <td>3.100000e+01</td>\n",
       "      <td>5.300000e+01</td>\n",
       "      <td>1.200000e+01</td>\n",
       "      <td>2.020000e+03</td>\n",
       "    </tr>\n",
       "  </tbody>\n",
       "</table>\n",
       "</div>"
      ],
      "text/plain": [
       "       valeur_fonciere  surface_reelle_bati  nombre_pieces_principales  \\\n",
       "count     1.398113e+07         5.944125e+06               7.481318e+06   \n",
       "mean      4.462819e+05         1.200324e+02               2.572612e+00   \n",
       "std       5.678194e+06         1.134031e+03               2.080648e+00   \n",
       "min       1.000000e-02         1.000000e+00               0.000000e+00   \n",
       "25%       5.200000e+04         5.100000e+01               0.000000e+00   \n",
       "50%       1.350000e+05         7.700000e+01               3.000000e+00   \n",
       "75%       2.400000e+05         1.070000e+02               4.000000e+00   \n",
       "max       2.086000e+09         6.462300e+05               1.120000e+02   \n",
       "\n",
       "       surface_terrain     longitude      latitude           day  \\\n",
       "count     1.015470e+07  1.380789e+07  1.380789e+07  1.412041e+07   \n",
       "mean      2.919397e+03  2.180256e+00  4.626731e+01  1.700813e+01   \n",
       "std       1.457711e+04  5.811478e+00  5.283771e+00  8.891415e+00   \n",
       "min       1.000000e+00 -6.315236e+01 -2.138677e+01  1.000000e+00   \n",
       "25%       2.250000e+02  1.229610e-01  4.481179e+01  9.000000e+00   \n",
       "50%       6.000000e+02  2.312408e+00  4.682248e+01  1.800000e+01   \n",
       "75%       1.760000e+03  4.346552e+00  4.867052e+01  2.500000e+01   \n",
       "max       1.072309e+07  5.583136e+01  5.108212e+01  3.100000e+01   \n",
       "\n",
       "               week         month          year  \n",
       "count  1.412041e+07  1.412041e+07  1.412041e+07  \n",
       "mean   2.776282e+01  6.761628e+00  2.017946e+03  \n",
       "std    1.507972e+01  3.455067e+00  1.349655e+00  \n",
       "min    1.000000e+00  1.000000e+00  2.016000e+03  \n",
       "25%    1.500000e+01  4.000000e+00  2.017000e+03  \n",
       "50%    2.800000e+01  7.000000e+00  2.018000e+03  \n",
       "75%    4.100000e+01  1.000000e+01  2.019000e+03  \n",
       "max    5.300000e+01  1.200000e+01  2.020000e+03  "
      ]
     },
     "execution_count": 52,
     "metadata": {},
     "output_type": "execute_result"
    }
   ],
   "source": [
    "df.describe()"
   ]
  },
  {
   "cell_type": "code",
   "execution_count": 66,
   "metadata": {},
   "outputs": [
    {
     "data": {
      "text/plain": [
       "<AxesSubplot:ylabel='None'>"
      ]
     },
     "execution_count": 66,
     "metadata": {},
     "output_type": "execute_result"
    },
    {
     "data": {
      "image/png": "[encoded data removed]",
      "text/plain": [
       "<Figure size 1000x1000 with 1 Axes>"
      ]
     },
     "metadata": {},
     "output_type": "display_data"
    }
   ],
   "source": [
    "nature_mutation = df.groupby('nature_mutation').size()\n",
    "#a = df['bins'].value_counts()\n",
    "nature_mutation.plot.pie(figsize=(10,10))"
   ]
  },
  {
   "cell_type": "code",
   "execution_count": 77,
   "metadata": {},
   "outputs": [
    {
     "data": {
      "text/plain": [
       "Index(['date_mutation', 'nature_mutation', 'valeur_fonciere', 'nom_commune',\n",
       "       'type_local', 'surface_reelle_bati', 'nombre_pieces_principales',\n",
       "       'surface_terrain', 'longitude', 'latitude', 'day', 'week', 'month',\n",
       "       'year'],\n",
       "      dtype='object')"
      ]
     },
     "execution_count": 77,
     "metadata": {},
     "output_type": "execute_result"
    }
   ],
   "source": [
    "df.columns"
   ]
  },
  {
   "cell_type": "code",
   "execution_count": 79,
   "metadata": {},
   "outputs": [],
   "source": [
    "by_year = df.groupby([\"year\"]).apply(count_rows)"
   ]
  },
  {
   "cell_type": "code",
   "execution_count": 86,
   "metadata": {},
   "outputs": [
    {
     "data": {
      "text/plain": [
       "Text(0.5, 1.0, 'Mutation Frequency')"
      ]
     },
     "execution_count": 86,
     "metadata": {},
     "output_type": "execute_result"
    },
    {
     "data": {
      "image/png": "[encoded data removed]",
      "text/plain": [
       "<Figure size 3000x1500 with 1 Axes>"
      ]
     },
     "metadata": {},
     "output_type": "display_data"
    }
   ],
   "source": [
    "plt.figure(figsize = (30, 15))\n",
    "plt.bar(range(1,6), by_year.sort_values())\n",
    "plt.xticks(range(1, 6), by_year.sort_values().index)\n",
    "plt.xlabel('Years')\n",
    "plt.ylabel('Frequency')\n",
    "plt.title('Mutation Frequency')"
   ]
  },
  {
   "cell_type": "markdown",
   "metadata": {},
   "source": [
    "$  \\huge Initial \\ file \\ exported \\ with \\ NaN $"
   ]
  },
  {
   "cell_type": "code",
   "execution_count": 2,
   "metadata": {},
   "outputs": [],
   "source": [
    "def import_data (path) :\n",
    "    df = pd.read_csv (path, delimiter = \",\")\n",
    "    #remove default csv index\n",
    "    df.drop([\"Unnamed: 0.1\" ,\"Unnamed: 0\"], axis = 1 , inplace = True)\n",
    "    return df\n",
    "df0 = import_data(\"df_principal.csv\")"
   ]
  },
  {
   "cell_type": "code",
   "execution_count": 24,
   "metadata": {},
   "outputs": [
    {
     "data": {
      "text/plain": [
       "Index(['date_mutation', 'nature_mutation', 'valeur_fonciere', 'nom_commune',\n",
       "       'type_local', 'surface_reelle_bati', 'nombre_pieces_principales',\n",
       "       'surface_terrain', 'longitude', 'latitude', 'day', 'week', 'month',\n",
       "       'year'],\n",
       "      dtype='object')"
      ]
     },
     "execution_count": 24,
     "metadata": {},
     "output_type": "execute_result"
    }
   ],
   "source": [
    "df0.columns"
   ]
  },
  {
   "cell_type": "code",
   "execution_count": 26,
   "metadata": {},
   "outputs": [],
   "source": [
    "df0 = parse_date(df0)"
   ]
  },
  {
   "cell_type": "code",
   "execution_count": 23,
   "metadata": {},
   "outputs": [
    {
     "data": {
      "text/plain": [
       "Index(['date_mutation', 'nature_mutation', 'valeur_fonciere', 'nom_commune',\n",
       "       'type_local', 'surface_reelle_bati', 'nombre_pieces_principales',\n",
       "       'surface_terrain', 'longitude', 'latitude', 'day', 'week', 'month',\n",
       "       'year'],\n",
       "      dtype='object')"
      ]
     },
     "execution_count": 23,
     "metadata": {},
     "output_type": "execute_result"
    }
   ],
   "source": [
    "df0.columns"
   ]
  },
  {
   "cell_type": "code",
   "execution_count": 14,
   "metadata": {},
   "outputs": [
    {
     "data": {
      "text/plain": [
       "Text(0.5, 1.0, 'Mutation Frequency')"
      ]
     },
     "execution_count": 14,
     "metadata": {},
     "output_type": "execute_result"
    },
    {
     "data": {
      "image/png": "[encoded data removed]",
      "text/plain": [
       "<Figure size 1080x720 with 1 Axes>"
      ]
     },
     "metadata": {
      "needs_background": "light"
     },
     "output_type": "display_data"
    }
   ],
   "source": [
    "by_year0 = df0.groupby([\"year\"]).apply(count_rows)\n",
    "plt.figure(figsize = (15, 10))\n",
    "plt.bar(range(0,5), by_year0.sort_values())\n",
    "plt.xticks(range(0, 5), by_year0.sort_values().index)\n",
    "plt.xlabel('Years')\n",
    "plt.ylabel('Frequency')\n",
    "plt.title('Mutation Frequency')"
   ]
  },
  {
   "cell_type": "code",
   "execution_count": 9,
   "metadata": {},
   "outputs": [
    {
     "data": {
      "text/plain": [
       "Text(0.5, 1.0, 'Mutation Frequency')"
      ]
     },
     "execution_count": 9,
     "metadata": {},
     "output_type": "execute_result"
    },
    {
     "data": {
      "image/png": "[encoded data removed]",
      "text/plain": [
       "<Figure size 2160x1080 with 1 Axes>"
      ]
     },
     "metadata": {
      "needs_background": "light"
     },
     "output_type": "display_data"
    }
   ],
   "source": [
    "by_year0 = df0.groupby([\"month\"]).apply(count_rows)\n",
    "plt.figure(figsize = (30, 15))\n",
    "plt.bar(range(1,13), by_year0)\n",
    "plt.xticks(range(1, 13), by_year0)\n",
    "plt.xticks(range(1,13), \"Jan Feb Mar Apr May Jun Jul Aug Sep Oct Nov Dec\".split())\n",
    "plt.xlabel('Months')\n",
    "plt.ylabel('Frequency')\n",
    "plt.title('Mutation Frequency')"
   ]
  },
  {
   "cell_type": "code",
   "execution_count": 99,
   "metadata": {},
   "outputs": [
    {
     "data": {
      "text/plain": [
       "Text(0.5, 1.0, 'Mutation Frequency')"
      ]
     },
     "execution_count": 99,
     "metadata": {},
     "output_type": "execute_result"
    },
    {
     "data": {
      "image/png": "[encoded data removed]",
      "text/plain": [
       "<Figure size 3000x1500 with 1 Axes>"
      ]
     },
     "metadata": {},
     "output_type": "display_data"
    }
   ],
   "source": [
    "by_year0 = df0.groupby([\"month\"]).apply(count_rows)\n",
    "plt.figure(figsize = (30, 15))\n",
    "plt.bar(range(1,13), by_year0.sort_values())\n",
    "plt.xticks(range(1, 13), by_year0.sort_values().index)\n",
    "plt.xlabel('Years')\n",
    "plt.ylabel('Frequency')\n",
    "plt.title('Mutation Frequency')"
   ]
  },
  {
   "cell_type": "code",
   "execution_count": 103,
   "metadata": {},
   "outputs": [
    {
     "name": "stderr",
     "output_type": "stream",
     "text": [
      "C:\\Users\\ISEPIS~1\\AppData\\Local\\Temp/ipykernel_17616/3914052344.py:4: UserWarning: Matplotlib is currently using agg, which is a non-GUI backend, so cannot show the figure.\n",
      "  plt.show()\n"
     ]
    },
    {
     "data": {
      "image/png": "[encoded data removed]",
      "text/plain": [
       "<Figure size 600x400 with 2 Axes>"
      ]
     },
     "metadata": {},
     "output_type": "display_data"
    }
   ],
   "source": [
    "by_week_month = df0.groupby(by=[\"week\",\"year\"]).apply(count_rows).unstack()\n",
    "#Let's see heatmap month & year\n",
    "sns.heatmap(by_week_month)\n",
    "plt.show()"
   ]
  },
  {
   "cell_type": "code",
   "execution_count": 10,
   "metadata": {},
   "outputs": [
    {
     "data": {
      "text/plain": [
       "<AxesSubplot:ylabel='type_local'>"
      ]
     },
     "execution_count": 10,
     "metadata": {},
     "output_type": "execute_result"
    },
    {
     "data": {
      "image/png": "[encoded data removed]",
      "text/plain": [
       "<Figure size 1080x576 with 1 Axes>"
      ]
     },
     "metadata": {
      "needs_background": "light"
     },
     "output_type": "display_data"
    }
   ],
   "source": [
    "df0.groupby('year').type_local.value_counts().unstack(0).plot.barh(figsize=(15,8))"
   ]
  },
  {
   "cell_type": "code",
   "execution_count": 17,
   "metadata": {},
   "outputs": [
    {
     "data": {
      "image/png": "[encoded data removed]",
      "text/plain": [
       "<Figure size 1080x576 with 1 Axes>"
      ]
     },
     "metadata": {
      "needs_background": "light"
     },
     "output_type": "display_data"
    }
   ],
   "source": [
    "df0.groupby('type_local').year.value_counts().unstack(0).plot.barh(figsize=(15,8))\n",
    "plt.grid()"
   ]
  },
  {
   "cell_type": "code",
   "execution_count": 31,
   "metadata": {},
   "outputs": [
    {
     "data": {
      "text/plain": [
       "val1    4759520\n",
       "val3    4659886\n",
       "val2    4561728\n",
       "Name: valeur_fonciere, dtype: int64"
      ]
     },
     "execution_count": 31,
     "metadata": {},
     "output_type": "execute_result"
    }
   ],
   "source": [
    "# Diviser les valeurs foncières en quartiles\n",
    "pd.qcut(df0.valeur_fonciere,3,labels=[\"val1\",\"val2\",\"val3\"]).value_counts()"
   ]
  },
  {
   "cell_type": "code",
   "execution_count": 7,
   "metadata": {},
   "outputs": [],
   "source": [
    "df_2016 = df0.loc[(df0[\"year\"]== 2016) , df0.columns]\n",
    "df_2017 = df0.loc[(df0[\"year\"]== 2017) , df0.columns]\n",
    "df_2018 = df0.loc[(df0[\"year\"]== 2018) , df0.columns]\n",
    "df_2019 = df0.loc[(df0[\"year\"]== 2019) , df0.columns]\n",
    "df_2020 = df0.loc[(df0[\"year\"]== 2020) , df0.columns]"
   ]
  },
  {
   "cell_type": "code",
   "execution_count": 14,
   "metadata": {},
   "outputs": [
    {
     "data": {
      "text/plain": [
       "Index(['date_mutation', 'nature_mutation', 'valeur_fonciere', 'nom_commune',\n",
       "       'type_local', 'surface_reelle_bati', 'nombre_pieces_principales',\n",
       "       'surface_terrain', 'longitude', 'latitude', 'day', 'week', 'month',\n",
       "       'year'],\n",
       "      dtype='object')"
      ]
     },
     "execution_count": 14,
     "metadata": {},
     "output_type": "execute_result"
    }
   ],
   "source": [
    "df0.columns"
   ]
  },
  {
   "cell_type": "markdown",
   "metadata": {},
   "source": [
    "$ \\huge Critères \\ suppression \\ des \\ lignes \\ en \\ fonction \\ des \\ NaN \\ par \\ colonne \\: ou \\ Filtre $"
   ]
  },
  {
   "cell_type": "code",
   "execution_count": 16,
   "metadata": {},
   "outputs": [],
   "source": [
    "#Il s'agit de faire un filtre sur les colonnes en supprimant les lignes qui contiennent au moins 1 NaN. (NaN=valeur manquante). \n",
    "# On pourrait aussi faire des imputations avec les modes ou moyenne ou la médiane sauf qu'avec le volume de données qu'on a, on peut se permettre de supprimer des lignes afin de maximiser les informations dans le data set\n",
    "\n",
    "# filtre sur nature mutation juste\n",
    "col_mutation = [\"date_mutation\", \"valeur_fonciere\", \"nature_mutation\", \"nom_commune\", \"longitude\",\"latitude\", \"month\", \"year\"]\n",
    "\n",
    "# filtre sur surface_terrain => 28% valeurs abscentes\n",
    "col_surf_terrain = [\"date_mutation\", \"valeur_fonciere\", \"nature_mutation\", \"nom_commune\", \"surface_terrain\", \"longitude\",\"latitude\", \"month\", \"year\"]\n",
    "\n",
    "# filtre sur nombre_pieces_principales => 47 % valeurs abscentes\n",
    "col_piece_princ = [\"date_mutation\", \"valeur_fonciere\", \"nature_mutation\", \"nom_commune\", \"nombre_pieces_principales\", \"longitude\",\"latitude\", \"month\", \"year\"]\n",
    "\n",
    "# filtre sur surface_reelle_bati => 58 % valeurs abscentes\n",
    "col_surface_R_bati = [\"date_mutation\", \"valeur_fonciere\", \"nature_mutation\", \"nom_commune\", \"surface_reelle_bati\", \"longitude\",\"latitude\", \"month\", \"year\"]\n",
    "\n",
    "# filtre sur nombre_pieces_principales + surface_reelle_bati\n",
    "col_piec_P_surface_R_bati = [\"date_mutation\", \"valeur_fonciere\", \"nature_mutation\", \"nom_commune\", \"nombre_pieces_principales\", \"surface_reelle_bati\", \"longitude\",\"latitude\", \"month\", \"year\"]\n",
    "\n",
    "# filtre sur tous les columns\n",
    "col_all = [\"date_mutation\", \"valeur_fonciere\", \"nature_mutation\", \"nom_commune\", \"surface_terrain\", \"nombre_pieces_principales\", \"surface_reelle_bati\", \"longitude\",\"latitude\", \"month\", \"year\"]\n"
   ]
  },
  {
   "cell_type": "code",
   "execution_count": 20,
   "metadata": {},
   "outputs": [
    {
     "name": "stderr",
     "output_type": "stream",
     "text": [
      "C:\\Users\\ISEPIS~1\\AppData\\Local\\Temp/ipykernel_15128/3409855295.py:7: FutureWarning: In a future version of pandas all arguments of DataFrame.drop except for the argument 'labels' will be keyword-only\n",
      "  df_.drop(index_nan , 0, inplace = True)\n"
     ]
    }
   ],
   "source": [
    "# Delete NaN\n",
    "df_col_mutation = delete_nan(df0 [col_mutation])\n",
    "df_col_surf_terrain = delete_nan( df0[col_surf_terrain])\n",
    "df_col_piece_princ = delete_nan(df0[col_piece_princ])\n",
    "df_col_surface_R_bati = delete_nan(df0[col_surface_R_bati])\n",
    "df_col_piec_P_surface_R_bati = delete_nan(df0[col_piec_P_surface_R_bati])\n",
    "df_col_all = delete_nan(df0[col_all])\n"
   ]
  },
  {
   "cell_type": "code",
   "execution_count": 62,
   "metadata": {},
   "outputs": [
    {
     "name": "stdout",
     "output_type": "stream",
     "text": [
      "Aucun filtre: (14120407, 14)\n",
      "(13675033, 8)\n",
      "(9767282, 9)\n",
      "(7335940, 9)\n",
      "(5822083, 9)\n",
      "(5822083, 10)\n",
      "(3478201, 11)\n"
     ]
    }
   ],
   "source": [
    "# Taille des datasets après filtre \n",
    "print (\"Aucun filtre:\", df0.shape)\n",
    "print(df_col_mutation.shape)\n",
    "print(df_col_surf_terrain.shape)\n",
    "print(df_col_piece_princ.shape) \n",
    "print(df_col_surface_R_bati.shape)\n",
    "print(df_col_piec_P_surface_R_bati.shape)\n",
    "print(df_col_all.shape)\n"
   ]
  },
  {
   "cell_type": "code",
   "execution_count": 22,
   "metadata": {},
   "outputs": [
    {
     "data": {
      "text/plain": [
       "<AxesSubplot:xlabel='surface_terrain', ylabel='valeur_fonciere'>"
      ]
     },
     "execution_count": 22,
     "metadata": {},
     "output_type": "execute_result"
    },
    {
     "data": {
      "image/png": "[encoded data removed]",
      "text/plain": [
       "<Figure size 432x288 with 1 Axes>"
      ]
     },
     "metadata": {
      "needs_background": "light"
     },
     "output_type": "display_data"
    }
   ],
   "source": [
    "df_col_all.plot.scatter(\"surface_terrain\",\"valeur_fonciere\")"
   ]
  },
  {
   "cell_type": "code",
   "execution_count": 6,
   "metadata": {},
   "outputs": [],
   "source": [
    "good = pd.DataFrame( {'latitude':30, 'longitude': 40} ,index=[0])\n"
   ]
  },
  {
   "cell_type": "code",
   "execution_count": 2,
   "metadata": {},
   "outputs": [],
   "source": [
    "import pandas as pd"
   ]
  },
  {
   "cell_type": "code",
   "execution_count": 7,
   "metadata": {},
   "outputs": [
    {
     "data": {
      "text/html": [
       "<div>\n",
       "<style scoped>\n",
       "    .dataframe tbody tr th:only-of-type {\n",
       "        vertical-align: middle;\n",
       "    }\n",
       "\n",
       "    .dataframe tbody tr th {\n",
       "        vertical-align: top;\n",
       "    }\n",
       "\n",
       "    .dataframe thead th {\n",
       "        text-align: right;\n",
       "    }\n",
       "</style>\n",
       "<table border=\"1\" class=\"dataframe\">\n",
       "  <thead>\n",
       "    <tr style=\"text-align: right;\">\n",
       "      <th></th>\n",
       "      <th>latitude</th>\n",
       "      <th>longitude</th>\n",
       "    </tr>\n",
       "  </thead>\n",
       "  <tbody>\n",
       "    <tr>\n",
       "      <th>0</th>\n",
       "      <td>30</td>\n",
       "      <td>40</td>\n",
       "    </tr>\n",
       "  </tbody>\n",
       "</table>\n",
       "</div>"
      ],
      "text/plain": [
       "   latitude  longitude\n",
       "0        30         40"
      ]
     },
     "execution_count": 7,
     "metadata": {},
     "output_type": "execute_result"
    }
   ],
   "source": [
    "good"
   ]
  },
  {
   "cell_type": "code",
   "execution_count": null,
   "metadata": {},
   "outputs": [],
   "source": []
  }
 ],
 "metadata": {
  "interpreter": {
   "hash": "8d686b4b769e083b9373a3c023ef5df78d0cd89a51b10968a34071e562c374b9"
  },
  "kernelspec": {
   "display_name": "Python 3.8.8 64-bit",
   "language": "python",
   "name": "python3"
  },
  "language_info": {
   "codemirror_mode": {
    "name": "ipython",
    "version": 3
   },
   "file_extension": ".py",
   "mimetype": "text/x-python",
   "name": "python",
   "nbconvert_exporter": "python",
   "pygments_lexer": "ipython3",
   "version": "3.8.8"
  },
  "orig_nbformat": 4
 },
 "nbformat": 4,
 "nbformat_minor": 2
}
